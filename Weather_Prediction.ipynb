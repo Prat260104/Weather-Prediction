{
  "nbformat": 4,
  "nbformat_minor": 0,
  "metadata": {
    "colab": {
      "provenance": []
    },
    "kernelspec": {
      "name": "python3",
      "display_name": "Python 3"
    },
    "language_info": {
      "name": "python"
    }
  },
  "cells": [
    {
      "cell_type": "code",
      "execution_count": null,
      "metadata": {
        "colab": {
          "base_uri": "https://localhost:8080/",
          "height": 1000
        },
        "id": "muWm4jS006MY",
        "outputId": "6ec55e2b-4de5-4ea9-d785-b04c50cdaf87"
      },
      "outputs": [
        {
          "output_type": "stream",
          "name": "stdout",
          "text": [
            "First 5 rows of the dataset:\n",
            "    Outlook  Temperature  Humidity  Windy Play\n",
            "0     Sunny           85        85  False   No\n",
            "1  Overcast           83        78  False  Yes\n",
            "2     Rainy           70        96   True  Yes\n",
            "3     Sunny           90        70  False   No\n",
            "4     Sunny           77        80   True  Yes\n",
            "\n",
            "Checking for missing values:\n",
            "Outlook        0\n",
            "Temperature    0\n",
            "Humidity       0\n",
            "Windy          0\n",
            "Play           0\n",
            "dtype: int64\n",
            "\n",
            "Model Accuracy: 1.00\n",
            "\n",
            "Classification Report:\n",
            "              precision    recall  f1-score   support\n",
            "\n",
            "           0       1.00      1.00      1.00        86\n",
            "           1       1.00      1.00      1.00       114\n",
            "\n",
            "    accuracy                           1.00       200\n",
            "   macro avg       1.00      1.00      1.00       200\n",
            "weighted avg       1.00      1.00      1.00       200\n",
            "\n"
          ]
        },
        {
          "output_type": "display_data",
          "data": {
            "text/plain": [
              "<Figure size 640x480 with 2 Axes>"
            ],
            "image/png": "[encoded data removed]"
          },
          "metadata": {}
        },
        {
          "output_type": "stream",
          "name": "stdout",
          "text": [
            "\n",
            "Sample Predictions:\n",
            "      Outlook  Temperature  Humidity  Windy Actual Predicted\n",
            "521 -1.324244     0.854598 -0.605863   -1.0    Yes       Yes\n",
            "737 -1.324244    -0.197215 -1.503437   -1.0    Yes       Yes\n",
            "740  1.083473     1.117551  0.179515   -1.0     No        No\n",
            "660  1.083473     1.117551  0.179515   -1.0     No        No\n",
            "411 -1.324244     0.854598 -0.605863   -1.0    Yes       Yes\n"
          ]
        }
      ],
      "source": [
        "# Weather Prediction Using Naive Bayes Classifier\n",
        "\n",
        "# Import necessary libraries\n",
        "import pandas as pd\n",
        "import numpy as np\n",
        "from sklearn.model_selection import train_test_split\n",
        "from sklearn.naive_bayes import GaussianNB\n",
        "from sklearn.metrics import accuracy_score, classification_report, confusion_matrix\n",
        "from sklearn.preprocessing import LabelEncoder, StandardScaler\n",
        "import seaborn as sns\n",
        "import matplotlib.pyplot as plt\n",
        "\n",
        "# Step 1: Data Collection\n",
        "# Load dataset from uploaded file\n",
        "file_path = '/content/large_weather_dataset.csv'\n",
        "df = pd.read_csv(file_path)\n",
        "print(\"First 5 rows of the dataset:\")\n",
        "print(df.head())\n",
        "\n",
        "# Step 2: Data Preprocessing\n",
        "print(\"\\nChecking for missing values:\")\n",
        "print(df.isnull().sum())  # Check for missing values\n",
        "\n",
        "# Drop rows with missing values for simplicity\n",
        "df.dropna(inplace=True)\n",
        "\n",
        "# Encode categorical variables\n",
        "label_encoders = {}\n",
        "for column in df.select_dtypes(include=['object', 'bool']).columns:\n",
        "    le = LabelEncoder()\n",
        "    df[column] = le.fit_transform(df[column])\n",
        "    label_encoders[column] = le\n",
        "\n",
        "# Normalize numerical features\n",
        "numeric_columns = df.select_dtypes(include=[np.number]).columns.tolist()\n",
        "numeric_columns.remove('Play')  # Exclude target column if present\n",
        "scaler = StandardScaler()\n",
        "df[numeric_columns] = scaler.fit_transform(df[numeric_columns])\n",
        "\n",
        "# Step 3: Model Implementation\n",
        "# Define features and target variable\n",
        "X = df.drop('Play', axis=1)\n",
        "y = df['Play']\n",
        "\n",
        "# Split data into training and testing sets\n",
        "X_train, X_test, y_train, y_test = train_test_split(X, y, test_size=0.2, random_state=42)\n",
        "\n",
        "# Create and train Naive Bayes classifier\n",
        "model = GaussianNB()\n",
        "model.fit(X_train, y_train)\n",
        "\n",
        "# Step 4: Model Evaluation\n",
        "# Make predictions\n",
        "y_pred = model.predict(X_test)\n",
        "\n",
        "# Evaluate the model\n",
        "accuracy = accuracy_score(y_test, y_pred)\n",
        "print(f\"\\nModel Accuracy: {accuracy:.2f}\")\n",
        "print(\"\\nClassification Report:\")\n",
        "print(classification_report(y_test, y_pred))\n",
        "\n",
        "# Confusion Matrix\n",
        "cm = confusion_matrix(y_test, y_pred)\n",
        "class_names = label_encoders['Play'].classes_ if 'Play' in label_encoders else ['No', 'Yes']\n",
        "sns.heatmap(cm, annot=True, fmt='d', cmap='Blues', xticklabels=class_names, yticklabels=class_names)\n",
        "plt.xlabel('Predicted')\n",
        "plt.ylabel('Actual')\n",
        "plt.title('Confusion Matrix')\n",
        "plt.show()\n",
        "\n",
        "# Step 5: Prediction\n",
        "# Show predictions for test set with actual vs predicted\n",
        "predictions_df = X_test.copy()\n",
        "predictions_df['Actual'] = y_test\n",
        "predictions_df['Predicted'] = y_pred\n",
        "if 'Play' in label_encoders:\n",
        "    predictions_df['Actual'] = label_encoders['Play'].inverse_transform(y_test)\n",
        "    predictions_df['Predicted'] = label_encoders['Play'].inverse_transform(y_pred)\n",
        "print(\"\\nSample Predictions:\")\n",
        "print(predictions_df.head())\n",
        "\n",
        "# Step 6: Documentation\n",
        "# Comments provided throughout the code explain the process."
      ]
    }
  ]
}